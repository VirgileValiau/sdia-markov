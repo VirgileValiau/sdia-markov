{
 "cells": [
  {
   "cell_type": "markdown",
   "metadata": {},
   "source": [
    "# Probability 2 (Master Data science, University of Lille) / CMF (Centrale Lille, G3 SDIA)\n",
    "\n",
    "---\n",
    "\n",
    "## Lab 2 - Queues, Metropolis-Hastings and simulated annealing\n",
    "\n",
    "---\n",
    "\n",
    "## Guidelines (read carefully before starting)\n",
    "\n",
    "**Objectives**: numerically simulate queues, implement an example of a Metropolis-Hasting algorithm and simulated annealing.\n",
    "\n",
    "**Setup**: after retrieving the resources for the lab on moodle:\n",
    "- place the .zip archive in a local folder (Computer -> Documents/Python/);\n",
    "- unzip the archive .zip;\n",
    "- rename the folder with the convention lab2_Name1_Name2\n",
    "- duplicate the notebook file and rename it lab2_Name1_Name2.ipynb;\n",
    "- [**optional, possibly needed if working from Centrale's machines**]\n",
    "    - create a `lab2` conda environment from the provided `requirement.txt` file\n",
    "    ```bash\n",
    "    conda create --name=lab2 --file=requirement.txt\n",
    "    conda activate lab2\n",
    "    # do not forget to deactivate the environment if needed\n",
    "    # you can remove the environment once you are done\n",
    "    conda env remove --name=lab2\n",
    "    ```\n",
    "    - launch jupyter notebook (the python environment will be the one from the conda environment `lab2`)\n",
    "- at the end of the session, do not forget to transfer your work to your own network space if you are working on a machine from the school (do not leave your work on the C: drive).\n",
    "\n",
    "**Assessment** &#8594; grade /20 (possibly converted later on to a grade ranging from F to A (A+))\n",
    "\n",
    "This lab session will be evaluated, based on your answer to the exercises reported in a Jupyter notebook (e.g., this one) and any additional `.py` file produced. In particular:\n",
    "\n",
    "- make sure the notebook you produce is properly annotated: each exercise should be introduced by a short sentence summarizing its context. Concisely answer each question from the guideline. \n",
    "- **relate the numerical results to the theory covered during the lecture** whenever appropriate;\n",
    "- **codes without any explanations (in a text cell) will not be considered as a complete answer**, and will only be attributed a fraction opf the grade attributed to the question.\n",
    "- any code produced should be commented whenever appropriate;\n",
    "- include appropriate axis labels and a relevant title to each figure reported in the notebook;\n",
    "- **document any function you introduce (using docstrings)**, and comment your code whenever appropriate (see, *e.g.*, [PEP 8 style recommendations](https://www.python.org/dev/peps/pep-0008/)). \n",
    "     - use a reference docstring style, *e.g.*, the [google docstring style](https://sphinxcontrib-napoleon.readthedocs.io/en/latest/example_google.html).\n",
    "- **give a clear structure to your notebook**: longer theoretical explanations should be reported in markdown cells. Include LaTeX equations to improve the clarity of the document.\n",
    "\n",
    "**Additional evaluation criteria**:\n",
    "- Code clarity / conciseness / documentation\n",
    "- Comment quality / overall presentation\n",
    "\n",
    "## <a name=\"content\">Contents</a>\n",
    "- [Exercise 1: Simulating $M/M/1/\\infty$ and $M/M/1/K$ queues](#ex1)\n",
    "- [Exercise 2: Drawing samples from the Ising model with the Metropolis-Hasings algorithm](#ex2)\n",
    "- [Exercise 3: Simulated annealing for the *traveling salesman* problem](#ex3)"
   ]
  },
  {
   "cell_type": "markdown",
   "metadata": {},
   "source": [
    "---\n",
    "## <a name=\"ex1\">Exercise 1: Simulating $M/M/1/\\infty$ and $M/M/1/K$ queues</a> [(&#8593;)](#content)\n",
    "\n",
    "This exercise will focus on simulating an $M/M/1/\\infty$ and an $M/M/1/K$ queue to illustrate some of the results covered in lecture 5. <!--in Chapter 2 and in TD.3-->\n",
    "\n",
    "In the following, the parameter of the exponential distributions governing the inter-arrival and service times will be denoted $\\lambda$ and $\\mu$ respectively, with $0< \\lambda < \\mu $. The time instants at which changes occur in the process $X(t)$ will be denoted by $T_n$ for $n \\in \\mathbb{N}$. We further define:\n",
    "\n",
    "\\begin{equation}\n",
    "    \\rho = \\frac{\\lambda}{\\mu}, \\; X_n = X(T_n).\n",
    "\\end{equation}\n",
    "\n",
    "### $M/M/1/\\infty$-queue\n",
    "\n",
    "1\\. a) Using the lecture notes, implement a function to simulate a trajectory $X(t)$ of an $M/M/1/\\infty$ process, where $X(t)$ represents the number of customers in the system at time $t$. <!--  from Chapter 2, Section 2.3.1 -->\n",
    "\n",
    "> *Remark*: the signature of the function could be of the form:\n",
    "``` python\n",
    "def run_mm1inf(lambd: float, mu: float, rng, niter: int):\n",
    "    \"\"\"\n",
    "    Args:\n",
    "        lambd (float): birth rate.\n",
    "        mu (float): death rate\n",
    "        rng (int): random seed (or random generator).\n",
    "        niter (int): number of changes (events) in \n",
    "                     the process.\n",
    "    Raises:\n",
    "        ValueError: error triggered if lambd <= 0.\n",
    "        ValueError: error triggered if mu <= 0.\n",
    "    Returns:\n",
    "        X (array_like): trajectory (X(t_n)).\n",
    "        T (array_like): time instants at which a change in \n",
    "                        the process occurs (t_n).\n",
    "    \"\"\" \n",
    "```"
   ]
  },
  {
   "cell_type": "code",
   "execution_count": 19,
   "metadata": {},
   "outputs": [],
   "source": [
    "import numpy as np\n",
    "import matplotlib.pyplot as plt"
   ]
  },
  {
   "cell_type": "code",
   "execution_count": 46,
   "metadata": {},
   "outputs": [],
   "source": [
    "def run_mm1inf(lambd: float, mu: float, rng, niter: int):\n",
    "    \"\"\"\n",
    "    Args:\n",
    "        lambd (float): birth rate.\n",
    "        mu (float): death rate\n",
    "        rng (int): random seed (or random generator).\n",
    "        niter (int): number of changes (events) in \n",
    "                     the process.\n",
    "    Raises:\n",
    "        ValueError: error triggered if lambd <= 0.\n",
    "        ValueError: error triggered if mu <= 0.\n",
    "    Returns:\n",
    "        X (array_like): trajectory (X(t_n)).\n",
    "        T (array_like): time instants at which a change in \n",
    "                        the process occurs (t_n).\n",
    "    \"\"\" \n",
    "    if lambd <=0:\n",
    "        raise ValueError(\"lambd must be >0, but found lambd = \"+str(lambd))\n",
    "    if mu <=0:\n",
    "        raise ValueError(\"mu must be >0, but found mu = \"+str(mu))\n",
    "    gen = np.random.default_rng(rng)\n",
    "    X=np.zeros(niter)\n",
    "    T=np.zeros(niter)\n",
    "    X[0] = 0\n",
    "    T[0] = 0\n",
    "    nb_changes = 1\n",
    "    t = 0\n",
    "    while nb_changes < niter :\n",
    "        if X[nb_changes-1] == 0:\n",
    "            tb = gen.exponential(1/lambd)\n",
    "            T[nb_changes] = T[nb_changes-1] + tb\n",
    "            X[nb_changes] = X[nb_changes-1]+1\n",
    "            nb_changes +=1\n",
    "        else:\n",
    "            tb = gen.exponential(1/lambd)\n",
    "            td = gen.exponential(1/mu)\n",
    "            if tb<td :\n",
    "                T[nb_changes] = T[nb_changes-1] + tb\n",
    "                X[nb_changes] = X[nb_changes-1]+1\n",
    "                nb_changes +=1\n",
    "            else:\n",
    "                X[nb_changes] = X[nb_changes-1]-1\n",
    "                T[nb_changes] = T[nb_changes-1] + td\n",
    "                nb_changes +=1\n",
    "        \n",
    "    return X,T"
   ]
  },
  {
   "cell_type": "markdown",
   "metadata": {},
   "source": [
    "b) Display the generated trajectory of the process for $(\\lambda,\\mu) = (5, 6)$ (e.g., use only the last 100 samples of the trajectory to obtain a representative illustration).\n",
    "\n",
    "> *Hint*: use the function `step` from the matlplotlib library."
   ]
  },
  {
   "cell_type": "code",
   "execution_count": 108,
   "metadata": {},
   "outputs": [
    {
     "data": {
      "text/plain": [
       "[<matplotlib.lines.Line2D at 0x19be7328490>]"
      ]
     },
     "execution_count": 108,
     "metadata": {},
     "output_type": "execute_result"
    },
    {
     "data": {
      "image/png": "[encoded data removed]",
      "text/plain": [
       "<Figure size 432x288 with 1 Axes>"
      ]
     },
     "metadata": {
      "needs_background": "light"
     },
     "output_type": "display_data"
    }
   ],
   "source": [
    "lambd = 5\n",
    "mu=6\n",
    "\n",
    "X,T = run_mm1inf(lambd,mu,50,100000)\n",
    "plt.step(T[-100:],X[-100:])"
   ]
  },
  {
   "cell_type": "markdown",
   "metadata": {},
   "source": [
    "2\\. a) Display on the same graph the normalized histogram of $(X_n)_n$ and the stationary distribution $\\pi$ defined by (see Proposition 2.1 in lecture 5)\n",
    "\n",
    "\\begin{equation}\n",
    "    (\\forall i \\in \\mathbb{N}), \\; \\pi(i) = (1 - \\rho)\\rho^i.\n",
    "\\end{equation}\n",
    "\n",
    "What does this graph illustrate?"
   ]
  },
  {
   "cell_type": "code",
   "execution_count": 109,
   "metadata": {},
   "outputs": [
    {
     "data": {
      "image/png": "[encoded data removed]",
      "text/plain": [
       "<Figure size 432x288 with 1 Axes>"
      ]
     },
     "metadata": {
      "needs_background": "light"
     },
     "output_type": "display_data"
    }
   ],
   "source": [
    "N=30\n",
    "I = range(N)\n",
    "rho = lambd/mu\n",
    "Pi = np.zeros(N)\n",
    "for k,i in enumerate(I):\n",
    "    Pi[k] = (1-rho)*(rho**i)\n",
    "    \n",
    "plt.hist(X,bins=range(N+1),density=True,color='w',edgecolor='red',align='left')\n",
    "plt.plot(I,Pi)\n",
    "plt.show()\n"
   ]
  },
  {
   "cell_type": "markdown",
   "metadata": {},
   "source": [
    "b) Empirically evaluate the average number of customers, whose value should be close close to the theoretical value $\\frac{\\rho}{1-\\rho}$ (see Definition 2.3 p. 2 in lecture 5)."
   ]
  },
  {
   "cell_type": "code",
   "execution_count": 110,
   "metadata": {},
   "outputs": [
    {
     "name": "stdout",
     "output_type": "stream",
     "text": [
      "Theoretical value :  5.000000000000002\n",
      "Empirical mean :  5.14754\n",
      "Error :  2.8662234776222903\n"
     ]
    }
   ],
   "source": [
    "print('Theoretical value : ',rho/(1-rho))\n",
    "print('Empirical mean : ',np.mean(X))\n",
    "print('Error : ',np.abs( rho/(1-rho) - np.mean(X) )/(np.mean(X))*100)"
   ]
  },
  {
   "cell_type": "markdown",
   "metadata": {},
   "source": [
    "### $M/M/1/K$\n",
    "\n",
    "Consider the case where the size of the capacity service $K$ is finite, i.e., where the system can only accommodate up to $K$ customers. In comparison with the previous case, any new customer trying to enter the system at a time instant $t$ will be systematically rejected if $X(t) = K$.\n",
    "\n",
    "3\\. a) Propose a variant of the function developed in 1.a) to simulate a trajectory of an $M/M/1/K$ process."
   ]
  },
  {
   "cell_type": "code",
   "execution_count": 111,
   "metadata": {},
   "outputs": [],
   "source": [
    "def run_mm1k(lambd: float, mu: float, k:int , rng, niter: int):\n",
    "    \"\"\"\n",
    "    Args:\n",
    "        lambd (float): birth rate.\n",
    "        mu (float): death rate.\n",
    "        k (int): capacity.\n",
    "        rng (int): random seed (or random generator).\n",
    "        niter (int): number of changes (events) in \n",
    "                     the process.\n",
    "    Raises:\n",
    "        ValueError: error triggered if lambd <= 0.\n",
    "        ValueError: error triggered if mu <= 0.\n",
    "        ValueError: error triggered if k <= 0.\n",
    "    Returns:\n",
    "        X (array_like): trajectory (X(t_n)).\n",
    "        T (array_like): time instants at which a change in \n",
    "                        the process occurs (t_n).\n",
    "    \"\"\" \n",
    "    if lambd <=0:\n",
    "        raise ValueError(\"lambd must be >0, but found lambd = \"+str(lambd))\n",
    "    if mu <=0:\n",
    "        raise ValueError(\"mu must be >0, but found mu = \"+str(mu))\n",
    "    if k <=0:\n",
    "        raise ValueError(\"k must be >0, but found k = \"+str(k))\n",
    "\n",
    "\n",
    "    gen = np.random.default_rng(rng)\n",
    "    X=np.zeros(niter)\n",
    "    T=np.zeros(niter)\n",
    "    X[0] = 0\n",
    "    T[0] = 0\n",
    "    nb_changes = 1\n",
    "    t = 0\n",
    "    while nb_changes < niter :\n",
    "        if X[nb_changes-1] == 0:\n",
    "            tb = gen.exponential(1/lambd)\n",
    "            T[nb_changes] = T[nb_changes-1] + tb\n",
    "            X[nb_changes] = X[nb_changes-1] + 1\n",
    "            nb_changes +=1\n",
    "            \n",
    "        elif X[nb_changes-1] == k:\n",
    "            td = gen.exponential(1/mu)\n",
    "            T[nb_changes] = T[nb_changes-1] + tb\n",
    "            X[nb_changes] = X[nb_changes-1] - 1\n",
    "            nb_changes +=1\n",
    "            \n",
    "        else:\n",
    "            tb = gen.exponential(1/lambd)\n",
    "            td = gen.exponential(1/mu)\n",
    "            if tb<td :\n",
    "                T[nb_changes] = T[nb_changes-1] + tb\n",
    "                X[nb_changes] = X[nb_changes-1] + 1\n",
    "                nb_changes +=1\n",
    "            else:\n",
    "                X[nb_changes] = X[nb_changes-1] - 1\n",
    "                T[nb_changes] = T[nb_changes-1] + td\n",
    "                nb_changes +=1\n",
    "        \n",
    "    return X,T"
   ]
  },
  {
   "cell_type": "markdown",
   "metadata": {},
   "source": [
    "b) Display the trajectory of the process for $(\\lambda,\\mu, K) = (5, 6, 3)$."
   ]
  },
  {
   "cell_type": "code",
   "execution_count": 122,
   "metadata": {},
   "outputs": [
    {
     "data": {
      "text/plain": [
       "[<matplotlib.lines.Line2D at 0x19be8856670>]"
      ]
     },
     "execution_count": 122,
     "metadata": {},
     "output_type": "execute_result"
    },
    {
     "data": {
      "image/png": "[encoded data removed]",
      "text/plain": [
       "<Figure size 432x288 with 1 Axes>"
      ]
     },
     "metadata": {
      "needs_background": "light"
     },
     "output_type": "display_data"
    }
   ],
   "source": [
    "lambd = 5\n",
    "mu = 6\n",
    "K = 3\n",
    "X,T = run_mm1k(lambd,mu,K,50,100000)\n",
    "plt.step(T[-100:],X[-100:])"
   ]
  },
  {
   "cell_type": "markdown",
   "metadata": {},
   "source": [
    "4\\. a) Display on the same graph the normalized histogram of $X_n$ and the stationary distribution $\\pi$ defined as\n",
    "\n",
    "$$\n",
    "    (\\forall i \\in \\mathbb{N}), \\; \\pi(i) =\n",
    "    \\begin{cases}\n",
    "        \\frac{(1-\\rho)\\rho^i}{1-\\rho^{K+1}} & \\text{if } i \\in \\{0, 1, \\dotsc, K \\} \\\\\n",
    "        0 & \\text{otherwise.}\n",
    "    \\end{cases}\n",
    "$$\n",
    "\n",
    "What does this graph illustrate?"
   ]
  },
  {
   "cell_type": "code",
   "execution_count": 136,
   "metadata": {},
   "outputs": [
    {
     "data": {
      "image/png": "[encoded data removed]",
      "text/plain": [
       "<Figure size 432x288 with 1 Axes>"
      ]
     },
     "metadata": {
      "needs_background": "light"
     },
     "output_type": "display_data"
    }
   ],
   "source": [
    "I = range(K+1)\n",
    "rho = lambd/mu\n",
    "Pi = np.zeros(K+1)\n",
    "for i in I:\n",
    "    Pi[i] = (1-rho)*(rho**i) / (1-rho**(K+1))  \n",
    "plt.hist(X,bins=range(K+2),density=True,color='w',edgecolor='red',align='left')\n",
    "plt.plot(I,Pi)\n",
    "plt.show()\n"
   ]
  },
  {
   "cell_type": "markdown",
   "metadata": {},
   "source": [
    "b) Compute the theoretical average number of customers, and estimate its value using the function developed in 3.a). <!--(see TD3, exercise 3)-->"
   ]
  },
  {
   "cell_type": "code",
   "execution_count": 141,
   "metadata": {},
   "outputs": [
    {
     "name": "stdout",
     "output_type": "stream",
     "text": [
      "Theoretical value :  1.2742175856929956\n",
      "Empirical mean :  1.38346\n",
      "Error :  7.896318961661655\n"
     ]
    }
   ],
   "source": [
    "avg = 0\n",
    "for i in range(len(Pi)):\n",
    "    avg += i*Pi[i]\n",
    "\n",
    "print('Theoretical value : ',avg)\n",
    "print('Empirical mean : ',np.mean(X))\n",
    "print('Error : ',np.abs( avg - np.mean(X) )/(np.mean(X))*100)"
   ]
  },
  {
   "cell_type": "markdown",
   "metadata": {},
   "source": [
    "---\n",
    "## <a name=\"ex2\">Exercise 2: Drawing samples from the Ising model with the Metropolis-Hastings algorithm</a> [(&#8593;)](#content)\n",
    "\n",
    "Consider the 2D Ising model covered in Chapter 3, section 3 of the lecture notes, taken over an $N \\times N$ grid for $N = 64$, with $\\beta = 0.6$. <!-- Chapter 3, p.36 -->\n",
    "\n",
    "1\\. Implement a Metropolis-Hastings algorithm to draw samples from the 2D Ising model in the above configuration. Progressively display the evolution of the image as the algorithm evolves. Generate 1000 such variables, starting from a random configuration. Qualitatively comment the content of the last few generated samples, in comparison with the initial state.\n",
    "\n",
    "> *Note*: a) the matlpotlib examples given [here](http://louistiao.me/posts/notebooks/embedding-matplotlib-animations-in-jupyter-as-interactive-javascript-widgets/) can be useful\n",
    ">\n",
    "> b) given the relatively slow evolution from one itearition to another, you may display the current state of the image only once every 20 iterations."
   ]
  },
  {
   "cell_type": "code",
   "execution_count": 158,
   "metadata": {},
   "outputs": [
    {
     "ename": "AttributeError",
     "evalue": "'builtin_function_or_method' object has no attribute 'randint'",
     "output_type": "error",
     "traceback": [
      "\u001b[1;31m---------------------------------------------------------------------------\u001b[0m",
      "\u001b[1;31mAttributeError\u001b[0m                            Traceback (most recent call last)",
      "\u001b[1;32m~\\AppData\\Local\\Temp/ipykernel_15216/738673320.py\u001b[0m in \u001b[0;36m<module>\u001b[1;34m\u001b[0m\n\u001b[0;32m     29\u001b[0m \u001b[0mniter\u001b[0m \u001b[1;33m=\u001b[0m \u001b[1;36m50\u001b[0m\u001b[1;33m\u001b[0m\u001b[1;33m\u001b[0m\u001b[0m\n\u001b[0;32m     30\u001b[0m \u001b[1;32mfor\u001b[0m \u001b[0mt\u001b[0m \u001b[1;32min\u001b[0m \u001b[0mrange\u001b[0m\u001b[1;33m(\u001b[0m\u001b[0mniter\u001b[0m\u001b[1;33m)\u001b[0m\u001b[1;33m:\u001b[0m\u001b[1;33m\u001b[0m\u001b[1;33m\u001b[0m\u001b[0m\n\u001b[1;32m---> 31\u001b[1;33m     \u001b[0mx\u001b[0m \u001b[1;33m=\u001b[0m \u001b[0mgen\u001b[0m\u001b[1;33m.\u001b[0m\u001b[0mrandom\u001b[0m\u001b[1;33m.\u001b[0m\u001b[0mrandint\u001b[0m\u001b[1;33m(\u001b[0m\u001b[0mN\u001b[0m\u001b[1;33m-\u001b[0m\u001b[1;36m1\u001b[0m\u001b[1;33m)\u001b[0m\u001b[1;33m\u001b[0m\u001b[1;33m\u001b[0m\u001b[0m\n\u001b[0m\u001b[0;32m     32\u001b[0m     \u001b[0my\u001b[0m \u001b[1;33m=\u001b[0m \u001b[0mgen\u001b[0m\u001b[1;33m.\u001b[0m\u001b[0mrandint\u001b[0m\u001b[1;33m(\u001b[0m\u001b[0mN\u001b[0m\u001b[1;33m-\u001b[0m\u001b[1;36m1\u001b[0m\u001b[1;33m)\u001b[0m\u001b[1;33m\u001b[0m\u001b[1;33m\u001b[0m\u001b[0m\n\u001b[0;32m     33\u001b[0m     \u001b[0mBp\u001b[0m \u001b[1;33m=\u001b[0m \u001b[0mB\u001b[0m\u001b[1;33m.\u001b[0m\u001b[0mcopy\u001b[0m\u001b[1;33m(\u001b[0m\u001b[1;33m)\u001b[0m\u001b[1;33m\u001b[0m\u001b[1;33m\u001b[0m\u001b[0m\n",
      "\u001b[1;31mAttributeError\u001b[0m: 'builtin_function_or_method' object has no attribute 'randint'"
     ]
    }
   ],
   "source": [
    "from matplotlib import animation, rc\n",
    "from IPython.display import HTML\n",
    "\n",
    "def H(B,i,j):\n",
    "    b = B[i][j]\n",
    "    h = 0\n",
    "    if i != 0:\n",
    "        h -= b*B[i-1][j]\n",
    "    if i != N-1:\n",
    "        h -= b*B[i+1][j]\n",
    "    if j != 0:\n",
    "        h -= b*B[i][j-1]\n",
    "    if j != N-1:\n",
    "        h -= b*B[i][j+1]\n",
    "    return h\n",
    "\n",
    "    \n",
    "        \n",
    "gen=np.random.default_rng(150)\n",
    "\n",
    "N=5\n",
    "Beta = 0.6\n",
    "B=np.ones((N,N))\n",
    "for i in range(N):\n",
    "    for j in range(N):\n",
    "        if gen.random() > 0.5:\n",
    "            B[i][j] = -1.\n",
    "\n",
    "niter = 50\n",
    "for t in range(niter):\n",
    "    x = gen.randint(N-1)\n",
    "    y = gen.randint(N-1)\n",
    "    Bp = B.copy()\n",
    "    Bp[x][y] = -B[x][y]\n",
    "    alpha = np.exp(-Beta*(H(B,i,j) - H(Bp,i,j)))\n",
    "    if gen.random() < alpha:\n",
    "        B=Bp\n",
    "    print(B)\n",
    "\n"
   ]
  },
  {
   "cell_type": "markdown",
   "metadata": {},
   "source": [
    "2\\. Decrease the value of the parameter $\\beta = 0.1$, and generate 1000 new variables with the algorithm implemented in 1. What is the influence of the parameter $\\beta$?"
   ]
  },
  {
   "cell_type": "code",
   "execution_count": null,
   "metadata": {},
   "outputs": [],
   "source": []
  },
  {
   "cell_type": "markdown",
   "metadata": {},
   "source": [
    "---\n",
    "## <a name=\"ex3\">Exercise 3: Simulated annealing for the *traveling salesman* problem</a> [(&#8593;)](#content)\n",
    "\n",
    "This exercise will be focused on the implementation of a basic simulated annealing algorithm to minimize a function $f : E \\subset \\mathbb{N} \\rightarrow \\mathbb{R}$, where $E$ is finite. An application to the *traveling salesman* problem will then be considered to test the algorithm implementation. \n",
    "\n",
    "In general, a simulated annealing algorithm can be described as follows.\n",
    "\n",
    "---\n",
    "**Simulated annealing**\n",
    "\n",
    "Set $x_0 \\in E$, $T_0  > 0$. \n",
    "\n",
    "$n \\leftarrow 0$\n",
    "\n",
    "While $(n \\leq N)$ and $(T_n > T_{\\min})$\n",
    "\n",
    "  1. Draw a point $y \\sim Q(x_n, \\cdot)$ in the neighborhood of $x_n$, and $u \\sim \\mathscr{U}([0,1])$ (where $\\mathscr{U}$ is the uniform distribution)\n",
    "  \n",
    "  2. Compute the acceptance probability: \n",
    "  \n",
    "$$\n",
    "    p(f(x_n), f(y), T_n) = \n",
    "    \\begin{cases}\n",
    "        1 & \\text{if } f(y) < f(x_n) \\\\\n",
    "        \\text{e}^{-(f(y) - f(x_n))/T_n} & \\text{otherwise.}\n",
    "    \\end{cases}\n",
    "$$\n",
    "  \n",
    "  3. Set $x_{n+1} = \\begin{cases}\n",
    "       y & \\text{if } u \\leq p(f(x_n), f(y), T_n) \\\\\n",
    "       x_n & \\text{otherwise.}\n",
    "       \\end{cases}$\n",
    "  4. Set $T_{n+1} = \\frac{T_0}{\\log(n+2)}$\n",
    "  5. $n \\leftarrow n+1$\n",
    "\n",
    "Return $x_N$, $\\bigl( f(x_n) \\bigr)_{1 \\leq n \\leq N}$\n",
    "\n",
    "> *Note*: in practice, the transition kernel $Q$, the neighborhood of the current point $x_n$ needs to be defined by the user, depending on the problem of interest. The definition of the other elements will be specified later for the *traveling salesman* problem.\n",
    "\n",
    "---"
   ]
  },
  {
   "cell_type": "markdown",
   "metadata": {},
   "source": [
    "1\\. Implement a generic `simulated_annealing` function to be run for a maximum of $N$ iterations.\n",
    "\n",
    "> *Note*: you can for instance create an object gathering several abstract methods to be instanciated (e.g., `draw_neighbour`, `acceptance_probability`, ...). Using functions and lambda functions is another possibility."
   ]
  },
  {
   "cell_type": "code",
   "execution_count": null,
   "metadata": {},
   "outputs": [],
   "source": []
  },
  {
   "cell_type": "markdown",
   "metadata": {},
   "source": [
    "The algorithm implemented in 1. will be applied to the *traveling salesman* problem, briefly described in the following lines.\n",
    "\n",
    "---\n",
    "**The Traveling Salesman problem**\n",
    "\n",
    "A salesman must find the shortest route going only once through $K$ cities, represented by the points $C_1, \\dotsc, C_K$ in $\\mathbb{R}^2$. In this case, the set of all possible routes $E$ contains $K!$ elements, which excludes an exhaustive search as $K$ increases (*e.g.*, for $K \\geq 10$). For this application, the problem thus consists in finding a route, i.e., a permutation $\\sigma$ in the symmetric group $\\Sigma_K$, minimizing the function\n",
    "\n",
    "\\begin{equation}\n",
    "    \\sigma = \\bigl( \\sigma(1), \\dotsc , \\sigma(K) \\bigr) \\mapsto f(x) = \\sum_{i = 1}^{K} \\text{dist} (C_{\\sigma(i)}, C_{\\sigma(i+1)})\n",
    "\\end{equation}\n",
    "\n",
    "with the convention $\\sigma(K+1) = \\sigma(1)$. In this case, simulated annealing randomly explores $\\Sigma_K$ from one possible route to another located in its vicinity (which needs to be defined). \n",
    "\n",
    "In the following, the route $\\tilde{\\sigma} = \\bigl( \\tilde{\\sigma}(1), \\dotsc, \\tilde{\\sigma}(K) \\bigr)$ will be said to be a neighbour of $\\sigma = \\bigl( \\sigma(1), \\dotsc, \\sigma(K) \\bigr)$ if there exists $1 \\leq i < k \\leq K $ such that:\n",
    "\n",
    "\\begin{equation}\n",
    "   \\bigl( \\tilde{\\sigma}(1), \\dotsc ,\\tilde{\\sigma}(K) \\bigr) = \\bigl( \\sigma(1), \\dotsc, \\sigma(i−1), \\sigma(k), \\sigma(k−1), \\dotsc, \\sigma(i+1), \\sigma(i), \\sigma(k+1), \\dotsc, \\sigma(K) \\bigr). \n",
    "\\end{equation}\n",
    "\n",
    "For instance, for $K = 8$, the permutations $(1,2,3,4,8,7,6,5)$ and $(1,2,7,8,4,3,6,5)$ are neighbours (with $i = 3$, $k = 6$).\n",
    "\n",
    "---"
   ]
  },
  {
   "cell_type": "markdown",
   "metadata": {},
   "source": [
    "2\\. Fully instantiate the simulated annealing algorithm for the traveling salesman problem. Take the $\\ell_2$ norm for $\\text{dist}$."
   ]
  },
  {
   "cell_type": "code",
   "execution_count": null,
   "metadata": {},
   "outputs": [],
   "source": []
  },
  {
   "cell_type": "markdown",
   "metadata": {},
   "source": [
    "3\\. Test your algorithm for $K = 50$ randomly located cities (i.e., generate the values of $(C_k)_{1 \\leq k \\leq K}$ randomly). Display both the evolution of the cost function with the iterations and the final route. Empirically tune the value $T_0$ to improve the result of the algorithm.\n",
    "\n",
    "> *Notes*:\n",
    ">\n",
    "> a) for reproducibility, set the random seed of the random number generator to a specific value, *e.g.*, 0;\n",
    ">\n",
    "> b) to generate an initial path $x_0$, you can for instance randomly select a starting city $k$, and define the next city sequentially by taking its *nearest neighbour*;\n",
    ">\n",
    "> c) to display the trajectory, you can use `matplotlib.pyplot.arrow` to display an arrow between two consecutive points."
   ]
  },
  {
   "cell_type": "code",
   "execution_count": null,
   "metadata": {},
   "outputs": [],
   "source": []
  }
 ],
 "metadata": {
  "kernelspec": {
   "display_name": "Python 3",
   "language": "python",
   "name": "python3"
  },
  "language_info": {
   "codemirror_mode": {
    "name": "ipython",
    "version": 3
   },
   "file_extension": ".py",
   "mimetype": "text/x-python",
   "name": "python",
   "nbconvert_exporter": "python",
   "pygments_lexer": "ipython3",
   "version": "3.8.12"
  }
 },
 "nbformat": 4,
 "nbformat_minor": 4
}
